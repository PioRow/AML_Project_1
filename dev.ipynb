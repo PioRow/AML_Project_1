{
 "cells": [
  {
   "cell_type": "code",
   "id": "initial_id",
   "metadata": {
    "collapsed": true,
    "ExecuteTime": {
     "end_time": "2025-03-10T22:32:28.248703Z",
     "start_time": "2025-03-10T22:32:26.319968Z"
    }
   },
   "source": [
    "from data.syntetic_data import generate_data\n",
    "import numpy as np\n",
    "import pandas as pd\n",
    "import matplotlib.pyplot as plt"
   ],
   "outputs": [],
   "execution_count": 3
  },
  {
   "metadata": {
    "ExecuteTime": {
     "end_time": "2025-03-10T22:34:51.633517Z",
     "start_time": "2025-03-10T22:34:51.630336Z"
    }
   },
   "cell_type": "code",
   "source": "",
   "id": "639ba61c0df50db1",
   "outputs": [],
   "execution_count": 5
  },
  {
   "metadata": {
    "ExecuteTime": {
     "end_time": "2025-03-10T22:43:43.324466Z",
     "start_time": "2025-03-10T22:43:43.315991Z"
    }
   },
   "cell_type": "code",
   "source": [
    "class LogisticRegression:\n",
    "    def __init__(self, tol=1e-4, num_iter=1000):\n",
    "        self.tol = tol\n",
    "        self.num_iter = num_iter\n",
    "        self.beta=None\n",
    "        \n",
    "    def __sigmoid(self, z):\n",
    "        return 1 / (1 + np.exp(-z))\n",
    "    \n",
    "    def __loss_derivative(self, X, y, beta, xk):\n",
    "        y_pred = self.__sigmoid(X @ beta)\n",
    "        return xk.T @ (y - y_pred)\n",
    "    \n",
    "    def __soft_threshold(self, z, gamma):\n",
    "        return np.sign(z) * np.maximum(np.abs(z) - gamma, 0)\n",
    "    def fit(self, X, y,lamb):\n",
    "        n_samples, n_features = X.shape\n",
    "        y=y.reshape(n_samples,1)\n",
    "        self.beta = np.zeros(n_features).reshape(n_samples,1)\n",
    "        for i in range(self.num_iter):\n",
    "            k=i%n_features\n",
    "            xk=X[:,k].reshape(n_samples,1)\n",
    "            loss=self.__loss_derivative(X, y, self.beta, xk)\n",
    "            self.beta[k]=self.__soft_threshold(loss, lamb)\n",
    "    def get_params(self):\n",
    "        return self.beta\n",
    "    "
   ],
   "id": "7beebc591374ce34",
   "outputs": [],
   "execution_count": 25
  },
  {
   "metadata": {
    "jupyter": {
     "is_executing": true
    },
    "ExecuteTime": {
     "start_time": "2025-03-10T22:44:12.289776Z"
    }
   },
   "cell_type": "code",
   "source": "X, y = generate_data(0.5, 1000, 500,0.5)",
   "id": "3fac346b31a0480b",
   "outputs": [],
   "execution_count": null
  }
 ],
 "metadata": {
  "kernelspec": {
   "display_name": "Python 3",
   "language": "python",
   "name": "python3"
  },
  "language_info": {
   "codemirror_mode": {
    "name": "ipython",
    "version": 2
   },
   "file_extension": ".py",
   "mimetype": "text/x-python",
   "name": "python",
   "nbconvert_exporter": "python",
   "pygments_lexer": "ipython2",
   "version": "2.7.6"
  }
 },
 "nbformat": 4,
 "nbformat_minor": 5
}
